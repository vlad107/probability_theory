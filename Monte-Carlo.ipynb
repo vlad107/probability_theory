{
 "cells": [
  {
   "cell_type": "code",
   "execution_count": 2,
   "metadata": {
    "collapsed": true
   },
   "outputs": [],
   "source": [
    "%matplotlib inline\n",
    "from matplotlib import pyplot as plt\n",
    "import numpy as np\n",
    "from math import *\n",
    "from scipy.stats import norm\n",
    "import sys"
   ]
  },
  {
   "cell_type": "code",
   "execution_count": 3,
   "metadata": {},
   "outputs": [
    {
     "name": "stdout",
     "output_type": "stream",
     "text": [
      "квантиль { (1+gamma)/2 }: 1.9599639845\n"
     ]
    }
   ],
   "source": [
    "gamma = 0.95\n",
    "t = norm.ppf((1 + gamma) / 2.0)\n",
    "print(\"квантиль { (1+gamma)/2 }: %.10f\" % (t))\n",
    "N_1 = int(1e4)\n",
    "N_2 = int(1e6)\n",
    "\n",
    "def monte_carlo(f, gen_rand, n_iter):\n",
    "    vals = [f(gen_rand()) for _ in range(n_iter)]\n",
    "    ex = sum(vals) / n_iter\n",
    "    dx = sum((val - ex) ** 2 for val in vals) / (n_iter - 1)\n",
    "    accuracy = t * np.sqrt(dx / n_iter)\n",
    "    return [ex, accuracy]"
   ]
  },
  {
   "cell_type": "code",
   "execution_count": 4,
   "metadata": {},
   "outputs": [
    {
     "name": "stdout",
     "output_type": "stream",
     "text": [
      "количество итераций: 10000\n",
      " объём: 0.5131000000\n",
      " точность: 0.0097969457\n",
      " доверительный интервал: (0.50330 .. 0.52290)\n",
      "количество итераций: 1000000\n",
      " объём: 0.5169050000\n",
      " точность: 0.0009794222\n",
      " доверительный интервал: (0.51593 .. 0.51788)\n"
     ]
    }
   ],
   "source": [
    "# первое задание\n",
    "def solve1(N):\n",
    "    a = 5\n",
    "    k = 4\n",
    "    c = 9.925\n",
    "    \n",
    "    f = lambda xs: float(sum(pow(a, x) for x in xs) <= c)\n",
    "    gen_rand = lambda: np.random.random(k)\n",
    "    ans, acc = monte_carlo(f, gen_rand, N)\n",
    "    print(\"количество итераций: %d\" % (N))\n",
    "    print(\" объём: %.10f\" % ans)\n",
    "    print(\" точность: %.10f\" % acc)\n",
    "    print(\" доверительный интервал: (%.5f .. %.5f)\" % (ans - acc, ans + acc))\n",
    "\n",
    "solve1(N_1)\n",
    "solve1(N_2)"
   ]
  },
  {
   "cell_type": "code",
   "execution_count": 5,
   "metadata": {},
   "outputs": [
    {
     "name": "stdout",
     "output_type": "stream",
     "text": [
      "Задание номер 3: integrate cos(x) / sqrt(1 + x * x) for x = 0..5\n",
      "\n",
      "количество итераций: 10000\n",
      " значение: 0.2329993541\n",
      " точность: 0.0388527022\n",
      " доверительный интервал: (0.19415 .. 0.27185)\n",
      "\n",
      "точное значение 0.234194 попадает в интервал\n",
      "количество итераций: 1000000\n",
      " значение: 0.2341540887\n",
      " точность: 0.0038684689\n",
      " доверительный интервал: (0.23029 .. 0.23802)\n",
      "\n",
      "точное значение 0.234194 попадает в интервал\n"
     ]
    }
   ],
   "source": [
    "# третье задание\n",
    "correct_value = 0.234194 # подсчитано в вольфраме\n",
    "\n",
    "def solve3(N):\n",
    "    f = lambda x: cos(x) / np.sqrt(1 + x**2)\n",
    "    gen_rand = lambda: np.random.uniform(0, 5)\n",
    "    ans, acc = monte_carlo(f, gen_rand, N)\n",
    "    ans, acc = 5 * ans, 5 * acc\n",
    "    print(\"количество итераций: %d\" % (N))\n",
    "    print(\" значение: %.10f\" % ans)\n",
    "    print(\" точность: %.10f\" % acc)\n",
    "    print(\" доверительный интервал: (%.5f .. %.5f)\" % (ans - acc, ans + acc))\n",
    "    print(\"\")\n",
    "    \n",
    "    if (ans - acc <= correct_value <= ans + acc):\n",
    "        print(\"точное значение %f попадает в интервал\" % correct_value)\n",
    "    else:\n",
    "        print(\"ОШИБКА!!! точное значение не попадает в интервал!!!!!!\")\n",
    "\n",
    "print(\"Задание номер 3: integrate cos(x) / sqrt(1 + x * x) for x = 0..5\\n\")\n",
    "solve3(N_1)\n",
    "solve3(N_2)"
   ]
  },
  {
   "cell_type": "code",
   "execution_count": 6,
   "metadata": {},
   "outputs": [
    {
     "name": "stdout",
     "output_type": "stream",
     "text": [
      "количество итераций: 10000\n",
      " значение: 2.3420104084\n",
      " точность: 0.0115814413\n",
      " доверительный интервал: (2.33043 .. 2.35359)\n",
      "\n",
      "количество итераций: 1000000\n",
      " значение: 2.3536539669\n",
      " точность: 0.0011658839\n",
      " доверительный интервал: (2.35249 .. 2.35482)\n",
      "\n"
     ]
    }
   ],
   "source": [
    "# второе задание\n",
    "\n",
    "def solve2(N):\n",
    "    f = lambda x: np.sqrt(2 + abs(x)**3)\n",
    "    gen_rand = lambda: np.random.normal(1, 0.5)\n",
    "    ans, acc = monte_carlo(f, gen_rand, N)\n",
    "    ans, acc = ans / np.sqrt(2 / np.pi), acc / np.sqrt(2 / np.pi)\n",
    "    print(\"количество итераций: %d\" % (N))\n",
    "    print(\" значение: %.10f\" % ans)\n",
    "    print(\" точность: %.10f\" % acc)\n",
    "    print(\" доверительный интервал: (%.5f .. %.5f)\" % (ans - acc, ans + acc))\n",
    "    print(\"\")\n",
    "    \n",
    "solve2(N_1)\n",
    "solve2(N_2)"
   ]
  },
  {
   "cell_type": "code",
   "execution_count": null,
   "metadata": {
    "collapsed": true
   },
   "outputs": [],
   "source": []
  },
  {
   "cell_type": "code",
   "execution_count": null,
   "metadata": {
    "collapsed": true
   },
   "outputs": [],
   "source": []
  },
  {
   "cell_type": "code",
   "execution_count": null,
   "metadata": {
    "collapsed": true
   },
   "outputs": [],
   "source": []
  }
 ],
 "metadata": {
  "kernelspec": {
   "display_name": "Python 3",
   "language": "python",
   "name": "python3"
  },
  "language_info": {
   "codemirror_mode": {
    "name": "ipython",
    "version": 3
   },
   "file_extension": ".py",
   "mimetype": "text/x-python",
   "name": "python",
   "nbconvert_exporter": "python",
   "pygments_lexer": "ipython3",
   "version": "3.5.2"
  }
 },
 "nbformat": 4,
 "nbformat_minor": 2
}
