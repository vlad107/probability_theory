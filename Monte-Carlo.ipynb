{
 "cells": [
  {
   "cell_type": "code",
   "execution_count": 3,
   "metadata": {
    "collapsed": true
   },
   "outputs": [],
   "source": [
    "%matplotlib inline\n",
    "from matplotlib import pyplot as plt\n",
    "import numpy as np\n",
    "from math import *\n",
    "from scipy.stats import norm\n",
    "import sys"
   ]
  },
  {
   "cell_type": "code",
   "execution_count": 114,
   "metadata": {},
   "outputs": [
    {
     "name": "stdout",
     "output_type": "stream",
     "text": [
      "квантиль { (1+gamma)/2 }: 1.9599639845\n"
     ]
    }
   ],
   "source": [
    "gamma = 0.95\n",
    "t = norm.ppf((1 + gamma) / 2.0)\n",
    "print(\"квантиль { (1+gamma)/2 }: %.10f\" % (t))\n",
    "N_1 = int(1e4)\n",
    "N_2 = int(1e6)\n",
    "\n",
    "def monte_carlo(f, gen_rand, n_iter):\n",
    "    vals = [f(gen_rand()) for _ in range(n_iter)]\n",
    "    ex = sum(vals) / n_iter\n",
    "    dx = sum((val - ex) ** 2 for val in vals) / (n_iter - 1)\n",
    "    accuracy = t * np.sqrt(dx / n_iter)\n",
    "    return [ex, accuracy]"
   ]
  },
  {
   "cell_type": "code",
   "execution_count": 100,
   "metadata": {},
   "outputs": [
    {
     "name": "stdout",
     "output_type": "stream",
     "text": [
      "количество итераций: 10000\n",
      " объём: 0.5200000000\n",
      " точность: 0.0097924666\n",
      " доверительный интервал: (0.51021 .. 0.52979)\n",
      "количество итераций: 1000000\n",
      " объём: 0.5159160000\n",
      " точность: 0.0009794859\n",
      " доверительный интервал: (0.51494 .. 0.51690)\n"
     ]
    }
   ],
   "source": [
    "# первое задание\n",
    "def solve1(N):\n",
    "    a = 5\n",
    "    k = 4\n",
    "    c = 9.925\n",
    "    \n",
    "    f = lambda xs: float(sum(pow(a, x) for x in xs) <= c)\n",
    "    gen_rand = lambda: np.random.random(k)\n",
    "    ans, acc = monte_carlo(f, gen_rand, N)\n",
    "    print(\"количество итераций: %d\" % (N))\n",
    "    print(\" объём: %.10f\" % ans)\n",
    "    print(\" точность: %.10f\" % acc)\n",
    "    print(\" доверительный интервал: (%.5f .. %.5f)\" % (ans - acc, ans + acc))\n",
    "\n",
    "solve1(N_1)\n",
    "solve1(N_2)"
   ]
  },
  {
   "cell_type": "code",
   "execution_count": 107,
   "metadata": {},
   "outputs": [
    {
     "name": "stdout",
     "output_type": "stream",
     "text": [
      "Задание номер 3: integrate cos(x) / sqrt(1 + x * x) for x = 0..5\n",
      "\n",
      "количество итераций: 10000\n",
      " объём: 0.2650393809\n",
      " точность: 0.0391454068\n",
      " доверительный интервал: (0.22589 .. 0.30418)\n",
      "\n",
      "точное значение 0.234194 попадает в интервал\n",
      "количество итераций: 1000000\n",
      " объём: 0.2357746494\n",
      " точность: 0.0038656898\n",
      " доверительный интервал: (0.23191 .. 0.23964)\n",
      "\n",
      "точное значение 0.234194 попадает в интервал\n"
     ]
    }
   ],
   "source": [
    "# третье задание\n",
    "correct_value = 0.234194 # подсчитано в вольфраме\n",
    "\n",
    "def solve3(N):\n",
    "    f = lambda x: cos(x) / np.sqrt(1 + x**2)\n",
    "    gen_rand = lambda: np.random.uniform(0, 5)\n",
    "    ans, acc = monte_carlo(f, gen_rand, N)\n",
    "    ans, acc = 5 * ans, 5 * acc\n",
    "    print(\"количество итераций: %d\" % (N))\n",
    "    print(\" значение: %.10f\" % ans)\n",
    "    print(\" точность: %.10f\" % acc)\n",
    "    print(\" доверительный интервал: (%.5f .. %.5f)\" % (ans - acc, ans + acc))\n",
    "    print(\"\")\n",
    "    \n",
    "    if (ans - acc <= correct_value <= ans + acc):\n",
    "        print(\"точное значение %f попадает в интервал\" % correct_value)\n",
    "    else:\n",
    "        print(\"ОШИБКА!!! точное значение не попадает в интервал!!!!!!\")\n",
    "\n",
    "print(\"Задание номер 3: integrate cos(x) / sqrt(1 + x * x) for x = 0..5\\n\")\n",
    "solve3(N_1)\n",
    "solve3(N_2)"
   ]
  },
  {
   "cell_type": "code",
   "execution_count": 113,
   "metadata": {},
   "outputs": [
    {
     "name": "stdout",
     "output_type": "stream",
     "text": [
      "количество итераций: 10000\n",
      " значение: 1.4996567110\n",
      " точность: 0.0074798020\n",
      " доверительный интервал: (1.49218 .. 1.50714)\n",
      "\n",
      "количество итераций: 1000000\n",
      " значение: 1.4984169427\n",
      " точность: 0.0007423565\n",
      " доверительный интервал: (1.49767 .. 1.49916)\n",
      "\n"
     ]
    }
   ],
   "source": [
    "# второе задание\n",
    "\n",
    "def solve2(N):\n",
    "    f = lambda x: np.sqrt(2 + abs(x)**3)\n",
    "    gen_rand = lambda: np.random.normal(1, 0.5)\n",
    "    ans, acc = monte_carlo(f, gen_rand, N)\n",
    "    ans, acc = np.sqrt(2 / np.pi) * ans, np.sqrt(2 / np.pi) * acc\n",
    "    print(\"количество итераций: %d\" % (N))\n",
    "    print(\" значение: %.10f\" % ans)\n",
    "    print(\" точность: %.10f\" % acc)\n",
    "    print(\" доверительный интервал: (%.5f .. %.5f)\" % (ans - acc, ans + acc))\n",
    "    print(\"\")\n",
    "    \n",
    "solve2(N_1)\n",
    "solve2(N_2)"
   ]
  },
  {
   "cell_type": "code",
   "execution_count": null,
   "metadata": {},
   "outputs": [],
   "source": []
  },
  {
   "cell_type": "code",
   "execution_count": null,
   "metadata": {
    "collapsed": true
   },
   "outputs": [],
   "source": []
  },
  {
   "cell_type": "code",
   "execution_count": null,
   "metadata": {
    "collapsed": true
   },
   "outputs": [],
   "source": []
  }
 ],
 "metadata": {
  "kernelspec": {
   "display_name": "Python 3",
   "language": "python",
   "name": "python3"
  },
  "language_info": {
   "codemirror_mode": {
    "name": "ipython",
    "version": 3
   },
   "file_extension": ".py",
   "mimetype": "text/x-python",
   "name": "python",
   "nbconvert_exporter": "python",
   "pygments_lexer": "ipython3",
   "version": "3.5.2"
  }
 },
 "nbformat": 4,
 "nbformat_minor": 2
}
